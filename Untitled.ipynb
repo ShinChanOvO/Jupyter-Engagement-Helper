{
 "cells": [
  {
   "cell_type": "code",
   "execution_count": 3,
   "id": "9285bfe2-f5ba-473c-ad77-7fca2687f4c9",
   "metadata": {
    "execution": {
     "iopub.execute_input": "2025-07-21T23:51:17.543808Z",
     "iopub.status.busy": "2025-07-21T23:51:17.543808Z",
     "iopub.status.idle": "2025-07-21T23:51:17.656889Z",
     "shell.execute_reply": "2025-07-21T23:51:17.656889Z",
     "shell.execute_reply.started": "2025-07-21T23:51:17.543808Z"
    }
   },
   "outputs": [
    {
     "ename": "NameError",
     "evalue": "name 'test' is not defined",
     "output_type": "error",
     "traceback": [
      "\u001b[31m---------------------------------------------------------------------------\u001b[39m",
      "\u001b[31mNameError\u001b[39m                                 Traceback (most recent call last)",
      "\u001b[36mCell\u001b[39m\u001b[36m \u001b[39m\u001b[32mIn[3]\u001b[39m\u001b[32m, line 1\u001b[39m\n\u001b[32m----> \u001b[39m\u001b[32m1\u001b[39m \u001b[43mtest\u001b[49m\n",
      "\u001b[31mNameError\u001b[39m: name 'test' is not defined"
     ]
    }
   ],
   "source": [
    "test"
   ]
  },
  {
   "cell_type": "code",
   "execution_count": null,
   "id": "f730d8ec-69e4-44ec-991d-0647d49dfbd7",
   "metadata": {},
   "outputs": [],
   "source": []
  }
 ],
 "metadata": {
  "kernelspec": {
   "display_name": "Python 3 (ipykernel)",
   "language": "python",
   "name": "python3"
  },
  "language_info": {
   "codemirror_mode": {
    "name": "ipython",
    "version": 3
   },
   "file_extension": ".py",
   "mimetype": "text/x-python",
   "name": "python",
   "nbconvert_exporter": "python",
   "pygments_lexer": "ipython3",
   "version": "3.12.4"
  }
 },
 "nbformat": 4,
 "nbformat_minor": 5
}
