{
 "cells": [
  {
   "cell_type": "markdown",
   "id": "52639c4a-a21e-4da6-84e9-a8499e3e9116",
   "metadata": {
    "tags": [
     "engage-summary",
     "hide_input",
     "hide_output"
    ]
   },
   "source": [
    "**Engagement Summary (auto-generated)**\n",
    "\n",
    "| Metric | Value |\n",
    "|:---|---:|\n",
    "| Run count | 5 |\n",
    "| Error count | 3 |\n",
    "| Active time (min) | 1 |"
   ]
  },
  {
   "cell_type": "markdown",
   "id": "e6f4550e-3ffc-4463-ab8b-64efa113e192",
   "metadata": {},
   "source": [
    "test"
   ]
  },
  {
   "cell_type": "code",
   "execution_count": 19,
   "id": "9285bfe2-f5ba-473c-ad77-7fca2687f4c9",
   "metadata": {
    "execution": {
     "iopub.execute_input": "2025-07-23T19:04:10.717834Z",
     "iopub.status.busy": "2025-07-23T19:04:10.717834Z",
     "iopub.status.idle": "2025-07-23T19:04:10.729053Z",
     "shell.execute_reply": "2025-07-23T19:04:10.729053Z",
     "shell.execute_reply.started": "2025-07-23T19:04:10.717834Z"
    },
    "scrolled": true
   },
   "outputs": [
    {
     "ename": "NameError",
     "evalue": "name 'test' is not defined",
     "output_type": "error",
     "traceback": [
      "\u001b[31m---------------------------------------------------------------------------\u001b[39m",
      "\u001b[31mNameError\u001b[39m                                 Traceback (most recent call last)",
      "\u001b[36mCell\u001b[39m\u001b[36m \u001b[39m\u001b[32mIn[19]\u001b[39m\u001b[32m, line 1\u001b[39m\n\u001b[32m----> \u001b[39m\u001b[32m1\u001b[39m \u001b[43mtest\u001b[49m\n",
      "\u001b[31mNameError\u001b[39m: name 'test' is not defined"
     ]
    }
   ],
   "source": [
    "test"
   ]
  },
  {
   "cell_type": "code",
   "execution_count": 18,
   "id": "7e939a44-37b5-4a4e-ae50-6b809dadb9eb",
   "metadata": {
    "execution": {
     "iopub.execute_input": "2025-07-23T19:03:05.963887Z",
     "iopub.status.busy": "2025-07-23T19:03:05.962888Z",
     "iopub.status.idle": "2025-07-23T19:03:05.966063Z",
     "shell.execute_reply": "2025-07-23T19:03:05.966063Z",
     "shell.execute_reply.started": "2025-07-23T19:03:05.963887Z"
    }
   },
   "outputs": [
    {
     "name": "stdout",
     "output_type": "stream",
     "text": [
      "test\n"
     ]
    }
   ],
   "source": [
    "print(\"test\")"
   ]
  },
  {
   "cell_type": "code",
   "execution_count": null,
   "id": "1c11d7d2-c1d0-44a4-972a-48ebd0715d60",
   "metadata": {},
   "outputs": [],
   "source": []
  },
  {
   "cell_type": "code",
   "execution_count": null,
   "id": "e54fcf18-88bb-4ffa-8fdd-cd6193a4e4c4",
   "metadata": {},
   "outputs": [],
   "source": []
  }
 ],
 "metadata": {
  "kernelspec": {
   "display_name": "Python 3 (ipykernel)",
   "language": "python",
   "name": "python3"
  },
  "language_info": {
   "codemirror_mode": {
    "name": "ipython",
    "version": 3
   },
   "file_extension": ".py",
   "mimetype": "text/x-python",
   "name": "python",
   "nbconvert_exporter": "python",
   "pygments_lexer": "ipython3",
   "version": "3.12.4"
  }
 },
 "nbformat": 4,
 "nbformat_minor": 5
}
