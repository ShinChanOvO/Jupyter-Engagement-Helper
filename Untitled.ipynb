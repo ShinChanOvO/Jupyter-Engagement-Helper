{
 "cells": [
  {
   "cell_type": "markdown",
   "id": "e6f4550e-3ffc-4463-ab8b-64efa113e192",
   "metadata": {},
   "source": [
    "test"
   ]
  },
  {
   "cell_type": "code",
   "execution_count": 1,
   "id": "9285bfe2-f5ba-473c-ad77-7fca2687f4c9",
   "metadata": {
    "execution": {
     "iopub.execute_input": "2025-07-23T16:10:08.255150Z",
     "iopub.status.busy": "2025-07-23T16:10:08.255150Z",
     "iopub.status.idle": "2025-07-23T16:10:08.361042Z",
     "shell.execute_reply": "2025-07-23T16:10:08.361042Z",
     "shell.execute_reply.started": "2025-07-23T16:10:08.255150Z"
    },
    "scrolled": true
   },
   "outputs": [
    {
     "ename": "NameError",
     "evalue": "name 'test' is not defined",
     "output_type": "error",
     "traceback": [
      "\u001b[31m---------------------------------------------------------------------------\u001b[39m",
      "\u001b[31mNameError\u001b[39m                                 Traceback (most recent call last)",
      "\u001b[36mCell\u001b[39m\u001b[36m \u001b[39m\u001b[32mIn[1]\u001b[39m\u001b[32m, line 1\u001b[39m\n\u001b[32m----> \u001b[39m\u001b[32m1\u001b[39m \u001b[43mtest\u001b[49m\n",
      "\u001b[31mNameError\u001b[39m: name 'test' is not defined"
     ]
    }
   ],
   "source": [
    "test"
   ]
  },
  {
   "cell_type": "code",
   "execution_count": 2,
   "id": "f730d8ec-69e4-44ec-991d-0647d49dfbd7",
   "metadata": {
    "execution": {
     "iopub.execute_input": "2025-07-23T16:10:08.702046Z",
     "iopub.status.busy": "2025-07-23T16:10:08.702046Z",
     "iopub.status.idle": "2025-07-23T16:10:08.704045Z",
     "shell.execute_reply": "2025-07-23T16:10:08.704045Z",
     "shell.execute_reply.started": "2025-07-23T16:10:08.702046Z"
    }
   },
   "outputs": [
    {
     "name": "stdout",
     "output_type": "stream",
     "text": [
      "test\n"
     ]
    }
   ],
   "source": [
    "print(\"test\")"
   ]
  },
  {
   "cell_type": "code",
   "execution_count": null,
   "id": "0c6eb43d-2d0e-4b1a-808c-37687fe67f3e",
   "metadata": {},
   "outputs": [],
   "source": []
  },
  {
   "cell_type": "code",
   "execution_count": null,
   "id": "406399f3-2035-4bee-98fc-494da2ba75ce",
   "metadata": {},
   "outputs": [],
   "source": []
  },
  {
   "cell_type": "code",
   "execution_count": null,
   "id": "399ef0bc-709e-42ee-8020-ef5b72dd541e",
   "metadata": {},
   "outputs": [],
   "source": []
  },
  {
   "cell_type": "code",
   "execution_count": null,
   "id": "36802664-8af6-4bf6-a9f4-ce9a3c1b1005",
   "metadata": {},
   "outputs": [],
   "source": []
  }
 ],
 "metadata": {
  "kernelspec": {
   "display_name": "Python 3 (ipykernel)",
   "language": "python",
   "name": "python3"
  },
  "language_info": {
   "codemirror_mode": {
    "name": "ipython",
    "version": 3
   },
   "file_extension": ".py",
   "mimetype": "text/x-python",
   "name": "python",
   "nbconvert_exporter": "python",
   "pygments_lexer": "ipython3",
   "version": "3.12.4"
  }
 },
 "nbformat": 4,
 "nbformat_minor": 5
}
