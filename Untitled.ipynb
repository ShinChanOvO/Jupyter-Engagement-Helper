{
 "cells": [
  {
   "cell_type": "markdown",
   "id": "e6f4550e-3ffc-4463-ab8b-64efa113e192",
   "metadata": {},
   "source": [
    "test"
   ]
  },
  {
   "cell_type": "code",
   "execution_count": 3,
   "id": "9285bfe2-f5ba-473c-ad77-7fca2687f4c9",
   "metadata": {
    "execution": {
     "iopub.execute_input": "2025-07-23T00:57:52.356624Z",
     "iopub.status.busy": "2025-07-23T00:57:52.356624Z",
     "iopub.status.idle": "2025-07-23T00:57:52.370621Z",
     "shell.execute_reply": "2025-07-23T00:57:52.370621Z",
     "shell.execute_reply.started": "2025-07-23T00:57:52.356624Z"
    },
    "scrolled": true
   },
   "outputs": [
    {
     "ename": "NameError",
     "evalue": "name 'test' is not defined",
     "output_type": "error",
     "traceback": [
      "\u001b[31m---------------------------------------------------------------------------\u001b[39m",
      "\u001b[31mNameError\u001b[39m                                 Traceback (most recent call last)",
      "\u001b[36mCell\u001b[39m\u001b[36m \u001b[39m\u001b[32mIn[3]\u001b[39m\u001b[32m, line 1\u001b[39m\n\u001b[32m----> \u001b[39m\u001b[32m1\u001b[39m \u001b[43mtest\u001b[49m\n",
      "\u001b[31mNameError\u001b[39m: name 'test' is not defined"
     ]
    }
   ],
   "source": [
    "test"
   ]
  },
  {
   "cell_type": "code",
   "execution_count": null,
   "id": "caf6c696-9c12-4523-a30c-be9389d65ea1",
   "metadata": {},
   "outputs": [],
   "source": []
  },
  {
   "cell_type": "code",
   "execution_count": 4,
   "id": "f730d8ec-69e4-44ec-991d-0647d49dfbd7",
   "metadata": {
    "execution": {
     "iopub.execute_input": "2025-07-23T00:57:53.504240Z",
     "iopub.status.busy": "2025-07-23T00:57:53.504240Z",
     "iopub.status.idle": "2025-07-23T00:57:53.507476Z",
     "shell.execute_reply": "2025-07-23T00:57:53.506472Z",
     "shell.execute_reply.started": "2025-07-23T00:57:53.504240Z"
    }
   },
   "outputs": [
    {
     "name": "stdout",
     "output_type": "stream",
     "text": [
      "test\n"
     ]
    }
   ],
   "source": [
    "print(\"test\")"
   ]
  },
  {
   "cell_type": "markdown",
   "id": "0f18042e-74d6-44db-ad59-b6a9ad94d9f5",
   "metadata": {},
   "source": []
  },
  {
   "cell_type": "code",
   "execution_count": null,
   "id": "0c6eb43d-2d0e-4b1a-808c-37687fe67f3e",
   "metadata": {},
   "outputs": [],
   "source": []
  }
 ],
 "metadata": {
  "kernelspec": {
   "display_name": "Python 3 (ipykernel)",
   "language": "python",
   "name": "python3"
  },
  "language_info": {
   "codemirror_mode": {
    "name": "ipython",
    "version": 3
   },
   "file_extension": ".py",
   "mimetype": "text/x-python",
   "name": "python",
   "nbconvert_exporter": "python",
   "pygments_lexer": "ipython3",
   "version": "3.12.4"
  }
 },
 "nbformat": 4,
 "nbformat_minor": 5
}
